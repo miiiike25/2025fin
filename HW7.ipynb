{
 "cells": [
  {
   "cell_type": "code",
   "execution_count": 5,
   "id": "33bc12c7-1876-4300-9efe-4944262660f5",
   "metadata": {},
   "outputs": [
    {
     "name": "stdout",
     "output_type": "stream",
     "text": [
      "Fibonacci 數列前 10 項：\n",
      "[1, 1, 2, 3, 5, 8, 13, 21, 34, 55]\n",
      "前 ÷ 後 的比值：\n",
      "[1.0, 0.5, 0.667, 0.6, 0.625, 0.615, 0.619, 0.618, 0.618]\n"
     ]
    }
   ],
   "source": [
    "def fibonacci(n):\n",
    "    if n <= 0:\n",
    "        return \"請輸入大於 0 的整數\"\n",
    "    \n",
    "    fib = [1]\n",
    "    if n > 1:\n",
    "        fib.append(1)\n",
    "    \n",
    "    for i in range(2, n):\n",
    "        fib.append(fib[i - 1] + fib[i - 2])\n",
    "    \n",
    "    # 計算比值（前一項 ÷ 後一項）\n",
    "    ratios = []\n",
    "    for i in range(len(fib) - 1):\n",
    "        ratios.append(round(fib[i] / fib[i + 1], 3))\n",
    "    \n",
    "    print(\"Fibonacci 數列前\", n, \"項：\")\n",
    "    print(fib)\n",
    "    print(\"比值：\")\n",
    "    print(ratios)\n",
    "\n",
    "fibonacci(10)"
   ]
  },
  {
   "cell_type": "code",
   "execution_count": null,
   "id": "50bad11d-b646-4ece-a6de-ec2e4cc3b4a7",
   "metadata": {},
   "outputs": [],
   "source": []
  }
 ],
 "metadata": {
  "kernelspec": {
   "display_name": "Python (base)",
   "language": "python",
   "name": "base"
  },
  "language_info": {
   "codemirror_mode": {
    "name": "ipython",
    "version": 3
   },
   "file_extension": ".py",
   "mimetype": "text/x-python",
   "name": "python",
   "nbconvert_exporter": "python",
   "pygments_lexer": "ipython3",
   "version": "3.12.3"
  }
 },
 "nbformat": 4,
 "nbformat_minor": 5
}
