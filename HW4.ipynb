{
 "cells": [
  {
   "cell_type": "code",
   "execution_count": 1,
   "id": "8585542f-b7ba-4764-8da7-abf1d1406527",
   "metadata": {},
   "outputs": [
    {
     "name": "stdout",
     "output_type": "stream",
     "text": [
      "YF.download() has changed argument auto_adjust default to True\n"
     ]
    },
    {
     "name": "stderr",
     "output_type": "stream",
     "text": [
      "[*********************100%***********************]  1 of 1 completed\n"
     ]
    },
    {
     "data": {
      "text/html": [
       "<div>\n",
       "<style scoped>\n",
       "    .dataframe tbody tr th:only-of-type {\n",
       "        vertical-align: middle;\n",
       "    }\n",
       "\n",
       "    .dataframe tbody tr th {\n",
       "        vertical-align: top;\n",
       "    }\n",
       "\n",
       "    .dataframe thead th {\n",
       "        text-align: right;\n",
       "    }\n",
       "</style>\n",
       "<table border=\"1\" class=\"dataframe\">\n",
       "  <thead>\n",
       "    <tr style=\"text-align: right;\">\n",
       "      <th></th>\n",
       "      <th>RSI</th>\n",
       "      <th>Signal</th>\n",
       "      <th>Close</th>\n",
       "    </tr>\n",
       "  </thead>\n",
       "  <tbody>\n",
       "    <tr>\n",
       "      <th>0</th>\n",
       "      <td>NaN</td>\n",
       "      <td>Hold</td>\n",
       "      <td>580.415405</td>\n",
       "    </tr>\n",
       "    <tr>\n",
       "      <th>1</th>\n",
       "      <td>NaN</td>\n",
       "      <td>Hold</td>\n",
       "      <td>565.733704</td>\n",
       "    </tr>\n",
       "    <tr>\n",
       "      <th>2</th>\n",
       "      <td>NaN</td>\n",
       "      <td>Hold</td>\n",
       "      <td>567.691223</td>\n",
       "    </tr>\n",
       "    <tr>\n",
       "      <th>3</th>\n",
       "      <td>NaN</td>\n",
       "      <td>Hold</td>\n",
       "      <td>563.776245</td>\n",
       "    </tr>\n",
       "    <tr>\n",
       "      <th>4</th>\n",
       "      <td>NaN</td>\n",
       "      <td>Hold</td>\n",
       "      <td>570.627686</td>\n",
       "    </tr>\n",
       "    <tr>\n",
       "      <th>...</th>\n",
       "      <td>...</td>\n",
       "      <td>...</td>\n",
       "      <td>...</td>\n",
       "    </tr>\n",
       "    <tr>\n",
       "      <th>236</th>\n",
       "      <td>56.218884</td>\n",
       "      <td>Hold</td>\n",
       "      <td>1074.989746</td>\n",
       "    </tr>\n",
       "    <tr>\n",
       "      <th>237</th>\n",
       "      <td>57.243765</td>\n",
       "      <td>Hold</td>\n",
       "      <td>1079.966553</td>\n",
       "    </tr>\n",
       "    <tr>\n",
       "      <th>238</th>\n",
       "      <td>57.243765</td>\n",
       "      <td>Hold</td>\n",
       "      <td>1079.966553</td>\n",
       "    </tr>\n",
       "    <tr>\n",
       "      <th>239</th>\n",
       "      <td>58.373879</td>\n",
       "      <td>Hold</td>\n",
       "      <td>1084.943359</td>\n",
       "    </tr>\n",
       "    <tr>\n",
       "      <th>240</th>\n",
       "      <td>58.373879</td>\n",
       "      <td>Hold</td>\n",
       "      <td>1084.943359</td>\n",
       "    </tr>\n",
       "  </tbody>\n",
       "</table>\n",
       "<p>241 rows × 3 columns</p>\n",
       "</div>"
      ],
      "text/plain": [
       "           RSI Signal        Close\n",
       "0          NaN   Hold   580.415405\n",
       "1          NaN   Hold   565.733704\n",
       "2          NaN   Hold   567.691223\n",
       "3          NaN   Hold   563.776245\n",
       "4          NaN   Hold   570.627686\n",
       "..         ...    ...          ...\n",
       "236  56.218884   Hold  1074.989746\n",
       "237  57.243765   Hold  1079.966553\n",
       "238  57.243765   Hold  1079.966553\n",
       "239  58.373879   Hold  1084.943359\n",
       "240  58.373879   Hold  1084.943359\n",
       "\n",
       "[241 rows x 3 columns]"
      ]
     },
     "execution_count": 1,
     "metadata": {},
     "output_type": "execute_result"
    }
   ],
   "source": [
    "import numpy as np\n",
    "import yfinance as yf\n",
    "import pandas as pd\n",
    "import talib\n",
    "\n",
    "df = yf.download(\"2330.TW\",\"2024-01-01\",\"2024-12-31\")\n",
    "Close = df[\"Close\"][\"2330.TW\"].to_numpy()\n",
    "\n",
    "RSI = talib.RSI(Close,timeperiod = 14)\n",
    "RSI_df = pd.DataFrame(RSI,columns = [\"RSI\"])\n",
    "\n",
    "Signal=[]\n",
    "for i in RSI:\n",
    "    if i < 30:\n",
    "        Signal.append(\"Buy\")\n",
    "    elif i > 70:\n",
    "        Signal.append(\"Sell\")\n",
    "    else:\n",
    "        Signal.append(\"Hold\")\n",
    "\n",
    "RSI_df.insert(1, column=\"Signal\", value= Signal)\n",
    "RSI_df.insert(2, column=\"Close\", value= Close)\n",
    "RSI_df\n",
    "#RSI_df.to_excel(\"HW4 - 2024_TSMC_CLose_RSI.xlsx\")"
   ]
  },
  {
   "cell_type": "code",
   "execution_count": 1,
   "id": "7c879427-05ec-448d-9e9d-de1f1728b749",
   "metadata": {},
   "outputs": [
    {
     "name": "stdout",
     "output_type": "stream",
     "text": [
      "YF.download() has changed argument auto_adjust default to True\n"
     ]
    },
    {
     "name": "stderr",
     "output_type": "stream",
     "text": [
      "[*********************100%***********************]  1 of 1 completed\n"
     ]
    },
    {
     "data": {
      "text/plain": [
       "numpy.ndarray"
      ]
     },
     "execution_count": 1,
     "metadata": {},
     "output_type": "execute_result"
    }
   ],
   "source": [
    "#課堂範例\n",
    "\n",
    "import numpy as np\n",
    "import yfinance as yf\n",
    "import pandas as pd\n",
    "df = yf.download(\"^GSPC\",\"2022-01-01\")\n",
    "Close = df[\"Close\"][\"^GSPC\"].to_numpy()\n",
    "type(Close)"
   ]
  },
  {
   "cell_type": "code",
   "execution_count": 82,
   "id": "8470172a-59fa-4c8a-9f4a-efc66b1bfbf7",
   "metadata": {},
   "outputs": [
    {
     "data": {
      "text/html": [
       "<div>\n",
       "<style scoped>\n",
       "    .dataframe tbody tr th:only-of-type {\n",
       "        vertical-align: middle;\n",
       "    }\n",
       "\n",
       "    .dataframe tbody tr th {\n",
       "        vertical-align: top;\n",
       "    }\n",
       "\n",
       "    .dataframe thead th {\n",
       "        text-align: right;\n",
       "    }\n",
       "</style>\n",
       "<table border=\"1\" class=\"dataframe\">\n",
       "  <thead>\n",
       "    <tr style=\"text-align: right;\">\n",
       "      <th></th>\n",
       "      <th>RSI</th>\n",
       "    </tr>\n",
       "  </thead>\n",
       "  <tbody>\n",
       "    <tr>\n",
       "      <th>0</th>\n",
       "      <td>NaN</td>\n",
       "    </tr>\n",
       "    <tr>\n",
       "      <th>1</th>\n",
       "      <td>NaN</td>\n",
       "    </tr>\n",
       "    <tr>\n",
       "      <th>2</th>\n",
       "      <td>NaN</td>\n",
       "    </tr>\n",
       "    <tr>\n",
       "      <th>3</th>\n",
       "      <td>NaN</td>\n",
       "    </tr>\n",
       "    <tr>\n",
       "      <th>4</th>\n",
       "      <td>NaN</td>\n",
       "    </tr>\n",
       "    <tr>\n",
       "      <th>...</th>\n",
       "      <td>...</td>\n",
       "    </tr>\n",
       "    <tr>\n",
       "      <th>236</th>\n",
       "      <td>56.218876</td>\n",
       "    </tr>\n",
       "    <tr>\n",
       "      <th>237</th>\n",
       "      <td>57.243756</td>\n",
       "    </tr>\n",
       "    <tr>\n",
       "      <th>238</th>\n",
       "      <td>57.243756</td>\n",
       "    </tr>\n",
       "    <tr>\n",
       "      <th>239</th>\n",
       "      <td>58.373869</td>\n",
       "    </tr>\n",
       "    <tr>\n",
       "      <th>240</th>\n",
       "      <td>58.373869</td>\n",
       "    </tr>\n",
       "  </tbody>\n",
       "</table>\n",
       "<p>241 rows × 1 columns</p>\n",
       "</div>"
      ],
      "text/plain": [
       "           RSI\n",
       "0          NaN\n",
       "1          NaN\n",
       "2          NaN\n",
       "3          NaN\n",
       "4          NaN\n",
       "..         ...\n",
       "236  56.218876\n",
       "237  57.243756\n",
       "238  57.243756\n",
       "239  58.373869\n",
       "240  58.373869\n",
       "\n",
       "[241 rows x 1 columns]"
      ]
     },
     "execution_count": 82,
     "metadata": {},
     "output_type": "execute_result"
    }
   ],
   "source": [
    "#課堂範例\n",
    "\n",
    "import talib\n",
    "RSI = talib.RSI(Close,timeperiod = 14)\n",
    "RSI_df = pd.DataFrame(RSI,columns = [\"RSI\"])\n",
    "RSI_df"
   ]
  },
  {
   "cell_type": "code",
   "execution_count": null,
   "id": "efa871f0-8db8-4670-a963-ae6b0093076a",
   "metadata": {},
   "outputs": [],
   "source": []
  }
 ],
 "metadata": {
  "kernelspec": {
   "display_name": "Python [conda env:base] *",
   "language": "python",
   "name": "conda-base-py"
  },
  "language_info": {
   "codemirror_mode": {
    "name": "ipython",
    "version": 3
   },
   "file_extension": ".py",
   "mimetype": "text/x-python",
   "name": "python",
   "nbconvert_exporter": "python",
   "pygments_lexer": "ipython3",
   "version": "3.12.3"
  }
 },
 "nbformat": 4,
 "nbformat_minor": 5
}
